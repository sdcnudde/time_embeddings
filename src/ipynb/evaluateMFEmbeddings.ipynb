{
 "cells": [
  {
   "cell_type": "code",
   "execution_count": 1,
   "metadata": {
    "collapsed": true
   },
   "outputs": [],
   "source": [
    "import os\n",
    "import sys\n",
    "import pandas\n",
    "import time\n",
    "import os\n",
    "import numpy as np\n",
    "from sklearn.model_selection import KFold\n",
    "from sklearn.linear_model import LogisticRegression\n",
    "from sklearn.model_selection import train_test_split\n",
    "from sklearn.metrics import roc_auc_score\n",
    "from sklearn.preprocessing import label_binarize"
   ]
  },
  {
   "cell_type": "code",
   "execution_count": 15,
   "metadata": {
    "collapsed": true
   },
   "outputs": [],
   "source": [
    "customer_labels = pandas.read_table('~/Downloads/customer_labels.csv', header=None, names=['cid', 'gender', 'cltv', 'churn'])\n",
    "cltv_labels = pandas.read_table('~/Documents/labels_cltv.txt', header=None, names=['cid', 'cltv'], sep=' ')"
   ]
  },
  {
   "cell_type": "code",
   "execution_count": 16,
   "metadata": {
    "collapsed": true
   },
   "outputs": [],
   "source": [
    "labels_gender = customer_labels[['cid', 'gender']]"
   ]
  },
  {
   "cell_type": "code",
   "execution_count": 19,
   "metadata": {
    "collapsed": true
   },
   "outputs": [],
   "source": [
    "labels_churn = customer_labels[['cid', 'churn']]\n",
    "labels_cltv = cltv_labels[['cid', 'cltv']]"
   ]
  },
  {
   "cell_type": "code",
   "execution_count": 20,
   "metadata": {
    "collapsed": true
   },
   "outputs": [],
   "source": [
    "latents = pandas.read_table('~/Downloads/mf_2.csv', header=None, names=['cid', 'latents'])"
   ]
  },
  {
   "cell_type": "code",
   "execution_count": 21,
   "metadata": {
    "collapsed": false
   },
   "outputs": [],
   "source": [
    "customers_join_cltv = pandas.merge(latents, cltv_labels, on='cid')"
   ]
  },
  {
   "cell_type": "code",
   "execution_count": 22,
   "metadata": {
    "collapsed": false
   },
   "outputs": [],
   "source": [
    "customers_join_churn = pandas.merge(latents, labels_churn, on='cid')\n",
    "customers_join_gender = pandas.merge(latents, labels_gender, on='cid')"
   ]
  },
  {
   "cell_type": "code",
   "execution_count": 23,
   "metadata": {
    "collapsed": false
   },
   "outputs": [],
   "source": [
    "latents = list()\n",
    "tt = customers_join_churn['latents'].map(lambda x : x.split(' '))\n",
    "for i in range(0, 194574):\n",
    "    latents.append([float(yy) for yy in tt[i]])"
   ]
  },
  {
   "cell_type": "code",
   "execution_count": 26,
   "metadata": {
    "collapsed": false
   },
   "outputs": [],
   "source": [
    "X = latents\n",
    "X = np.asarray(X)\n",
    "Y = customers_join_churn['churn'].tolist()\n",
    "CID = customers_join_churn['cid'].tolist()"
   ]
  },
  {
   "cell_type": "code",
   "execution_count": 30,
   "metadata": {
    "collapsed": true
   },
   "outputs": [],
   "source": [
    "c_list = pandas.read_csv(\"~/list_c.csv\", header=0, names=['idx', 'val'])\n",
    "c_list = c_list[\"val\"].values\n",
    "X = np.asarray(X)\n",
    "Y = np.asarray(Y)\n",
    "CID = np.asarray(CID)\n",
    "Y = [1 if yy else 0 for yy in Y]"
   ]
  },
  {
   "cell_type": "markdown",
   "metadata": {},
   "source": [
    "For finding parameters"
   ]
  },
  {
   "cell_type": "code",
   "execution_count": null,
   "metadata": {
    "collapsed": true
   },
   "outputs": [],
   "source": [
    "\n",
    "aucs = []\n",
    "for i in range(0, 10):\n",
    "\n",
    "    tr_folds_val = pandas.read_csv('tr_folds_val' + str(i) + \".csv\", header=0, names=[\"idx\", \"val\"])\n",
    "    tr_folds_val = tr_folds_val[\"val\"].values\n",
    "    tr_folds_tr = pandas.read_csv('tr_folds_tr' + str(i) + \".csv\", header=0, names=[\"idx\", \"val\"])\n",
    "    tr_folds_tr = tr_folds_tr[\"val\"].values\n",
    "\n",
    "    c_ids_val = c_list[tr_folds_val]\n",
    "    c_ids_tr = c_list[tr_folds_tr]\n",
    "    xsorted = np.argsort(CID)\n",
    "    ypos = np.searchsorted(CID[xsorted], c_ids_val)\n",
    "    idx_val = xsorted[ypos]\n",
    "    ypos = np.searchsorted(CID[xsorted], c_ids_tr)\n",
    "    idx_tr = xsorted[ypos]\n",
    "\n",
    "    LR = LogisticRegression()\n",
    "    LR.fit(X[idx_tr], Y[idx_tr, j])\n",
    "    auc_val = roc_auc_score(Y[idx_val, j], LR.predict_proba(X[idx_val])[:, 1])\n",
    "    pandas.DataFrame(LR.predict_proba(X[idx_val])[:, 1]).to_csv('val_scores' + str(i) + \".csv\")\n",
    "    pandas.DataFrame(Y[idx_val]).to_csv('val_scores_true' + str(i) + \".csv\")\n",
    "    print \"AUC on VAL: \" + str(auc_val)\n",
    "    aucs.append(auc_val)\n",
    "print(np.mean(aucs))"
   ]
  },
  {
   "cell_type": "markdown",
   "metadata": {},
   "source": [
    "CLTV"
   ]
  },
  {
   "cell_type": "code",
   "execution_count": 674,
   "metadata": {
    "collapsed": false
   },
   "outputs": [
    {
     "data": {
      "text/plain": [
       "[3, 5, 2, 0, 6, 0, 3, 2, 6, 0, 2, 4, 2, 5, 5]"
      ]
     },
     "execution_count": 674,
     "metadata": {},
     "output_type": "execute_result"
    }
   ],
   "source": [
    "X = latents\n",
    "X = np.asarray(X)\n",
    "Y = customers_join_cltv['cltv'].tolist()\n",
    "CID = customers_join_churn['cid'].tolist()"
   ]
  },
  {
   "cell_type": "code",
   "execution_count": 675,
   "metadata": {
    "collapsed": false
   },
   "outputs": [],
   "source": [
    "Y = label_binarize(Y, classes=[0, 1, 2, 3, 4, 5, 6])"
   ]
  },
  {
   "cell_type": "code",
   "execution_count": 676,
   "metadata": {
    "collapsed": false
   },
   "outputs": [
    {
     "data": {
      "text/plain": [
       "(194574, 7)"
      ]
     },
     "execution_count": 676,
     "metadata": {},
     "output_type": "execute_result"
    }
   ],
   "source": [
    "Y.shape"
   ]
  },
  {
   "cell_type": "code",
   "execution_count": 712,
   "metadata": {
    "collapsed": false
   },
   "outputs": [],
   "source": [
    "c_list = pandas.read_csv(\"~/list_c.csv\", header=0, names=['idx', 'val'])\n",
    "c_list = c_list[\"val\"].values\n",
    "X = np.asarray(X)\n",
    "Y = np.asarray(Y)\n",
    "CID = np.asarray(CID)"
   ]
  },
  {
   "cell_type": "code",
   "execution_count": 713,
   "metadata": {
    "collapsed": false
   },
   "outputs": [
    {
     "name": "stdout",
     "output_type": "stream",
     "text": [
      "0.720812490687\n"
     ]
    }
   ],
   "source": [
    "for j in range(0, 7):\n",
    "    aucs = []\n",
    "    for i in range(0, 10):\n",
    "\n",
    "        tr_folds_te = pandas.read_csv('tr_folds_te' + str(i) + \".csv\", header=0, names=[\"idx\", \"val\"])\n",
    "        tr_folds_te = tr_folds_te[\"val\"].values\n",
    "        tr_folds_tr = pandas.read_csv('tr_folds_tr' + str(i) + \".csv\", header=0, names=[\"idx\", \"val\"])\n",
    "        tr_folds_tr = tr_folds_tr[\"val\"].values\n",
    "\n",
    "        c_ids_te = c_list[tr_folds_te]\n",
    "        c_ids_tr = c_list[tr_folds_tr]\n",
    "        xsorted = np.argsort(CID)\n",
    "        ypos = np.searchsorted(CID[xsorted], c_ids_te)\n",
    "        idx_te = xsorted[ypos]\n",
    "        ypos = np.searchsorted(CID[xsorted], c_ids_tr)\n",
    "        idx_tr = xsorted[ypos]\n",
    "\n",
    "        LR = LogisticRegression()\n",
    "        LR.fit(X[idx_tr], Y[idx_tr, j])\n",
    "        auc_te = roc_auc_score(Y[idx_te, j], LR.predict_proba(X[idx_te])[:, 1])\n",
    "        pandas.DataFrame(LR.predict_proba(X[idx_te])[:, 1]).to_csv('te_scores' + str(i) + \".csv\")\n",
    "        pandas.DataFrame(Y[idx_te]).to_csv('te_scores_true' + str(i) + \".csv\")\n",
    "        print \"AUC on TE: \" + str(auc_te)\n",
    "        aucs.append(auc_te)\n",
    "    print(np.mean(aucs))"
   ]
  },
  {
   "cell_type": "code",
   "execution_count": null,
   "metadata": {
    "collapsed": true
   },
   "outputs": [],
   "source": []
  }
 ],
 "metadata": {
  "kernelspec": {
   "display_name": "Python 2",
   "language": "python",
   "name": "python2"
  },
  "language_info": {
   "codemirror_mode": {
    "name": "ipython",
    "version": 2
   },
   "file_extension": ".py",
   "mimetype": "text/x-python",
   "name": "python",
   "nbconvert_exporter": "python",
   "pygments_lexer": "ipython2",
   "version": "2.7.13"
  }
 },
 "nbformat": 4,
 "nbformat_minor": 2
}
