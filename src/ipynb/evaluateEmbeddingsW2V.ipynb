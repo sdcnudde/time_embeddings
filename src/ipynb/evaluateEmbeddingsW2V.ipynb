{
 "cells": [
  {
   "cell_type": "code",
   "execution_count": 1,
   "metadata": {
    "collapsed": true
   },
   "outputs": [],
   "source": [
    "import os\n",
    "import sys\n",
    "import pandas\n",
    "import time\n",
    "import os\n",
    "import numpy as np\n",
    "from sklearn.model_selection import KFold\n",
    "from sklearn.linear_model import LogisticRegression\n",
    "from sklearn.model_selection import train_test_split\n",
    "from sklearn.metrics import roc_auc_score\n",
    "from sklearn.preprocessing import label_binarize"
   ]
  },
  {
   "cell_type": "code",
   "execution_count": 2,
   "metadata": {
    "collapsed": true
   },
   "outputs": [],
   "source": [
    "customer_labels = pandas.read_table('~/Downloads/customer_labels.csv', header=None, names=['cid', 'gender', 'cltv', 'churn'])\n",
    "cltv_labels = pandas.read_table('~/Documents/labels_cltv.txt', header=None, names=['cid', 'cltv'])"
   ]
  },
  {
   "cell_type": "code",
   "execution_count": 3,
   "metadata": {
    "collapsed": true
   },
   "outputs": [],
   "source": [
    "labels_gender = customer_labels[['cid', 'gender']]\n",
    "labels_churn = customer_labels[['cid', 'churn']]\n",
    "labels_cltv = cltv_labels[['cid', 'cltv']]"
   ]
  },
  {
   "cell_type": "markdown",
   "metadata": {},
   "source": [
    "##### Read W2V embeddings"
   ]
  },
  {
   "cell_type": "code",
   "execution_count": 4,
   "metadata": {
    "collapsed": false
   },
   "outputs": [
    {
     "name": "stdout",
     "output_type": "stream",
     "text": [
      "(194574, 65)\n"
     ]
    }
   ],
   "source": [
    "w2v_size = 64\n",
    "str_fname = '~/Documents/w2v_hour.txt'\n",
    "embeddings = pandas.read_table(str_fname, sep=' ', header=None, usecols=range(0, w2v_size+1), skiprows=1)\n",
    "embeddings = embeddings.rename(columns={0: 'cid'})\n",
    "print embeddings.shape"
   ]
  },
  {
   "cell_type": "code",
   "execution_count": 5,
   "metadata": {
    "collapsed": false
   },
   "outputs": [],
   "source": [
    "customers_final_join = pandas.merge(embeddings, labels_gender, on='cid')\n",
    "#customers_final_join = pandas.merge(embeddings, labels_churn, on='cid')"
   ]
  },
  {
   "cell_type": "code",
   "execution_count": 6,
   "metadata": {
    "collapsed": true
   },
   "outputs": [],
   "source": [
    "X = customers_final_join[customers_final_join.columns[1:w2v_size+1]].values\n",
    "Y = customers_final_join['gender'].tolist()\n",
    "CID = customers_final_join['cid'].tolist()\n",
    "#Y = [1 if yy else 0 for yy in Y]\n",
    "Y = [1 if yy == 'F' else 0 for yy in Y]"
   ]
  },
  {
   "cell_type": "code",
   "execution_count": 7,
   "metadata": {
    "collapsed": true
   },
   "outputs": [],
   "source": [
    "c_list = pandas.read_csv(\"list_c.csv\", header=0, names=['idx', 'val'])"
   ]
  },
  {
   "cell_type": "code",
   "execution_count": 8,
   "metadata": {
    "collapsed": true
   },
   "outputs": [],
   "source": [
    "c_list = c_list[\"val\"].values"
   ]
  },
  {
   "cell_type": "code",
   "execution_count": 9,
   "metadata": {
    "collapsed": false
   },
   "outputs": [],
   "source": [
    "X = np.asarray(X)\n",
    "Y = np.asarray(Y)\n",
    "CID = np.asarray(CID)"
   ]
  },
  {
   "cell_type": "markdown",
   "metadata": {},
   "source": [
    "For choosing the W2V parameters"
   ]
  },
  {
   "cell_type": "code",
   "execution_count": 10,
   "metadata": {
    "collapsed": false
   },
   "outputs": [
    {
     "name": "stdout",
     "output_type": "stream",
     "text": [
      "AUC on VAL: 0.883184465196\n",
      "AUC on VAL: 0.88227436991\n",
      "AUC on VAL: 0.882197016389\n",
      "AUC on VAL: 0.882228169863\n",
      "AUC on VAL: 0.882231165714\n",
      "AUC on VAL: 0.882276911334\n",
      "AUC on VAL: 0.882420644813\n",
      "AUC on VAL: 0.881833508697\n",
      "AUC on VAL: 0.882474519622\n",
      "AUC on VAL: 0.882417110383\n",
      "0.882353788192\n"
     ]
    }
   ],
   "source": [
    "aucs = []\n",
    "for i in range(0, 10):\n",
    "    \n",
    "    tr_folds_val = pandas.read_csv('tr_folds_val' + str(i) + \".csv\", header=0, names=[\"idx\", \"val\"])\n",
    "    tr_folds_val = tr_folds_val[\"val\"].values\n",
    "    tr_folds_tr = pandas.read_csv('tr_folds_tr' + str(i) + \".csv\", header=0, names=[\"idx\", \"val\"])\n",
    "    tr_folds_tr = tr_folds_tr[\"val\"].values\n",
    "    \n",
    "    c_ids_val = c_list[tr_folds_val]\n",
    "    c_ids_tr = c_list[tr_folds_tr]\n",
    "    xsorted = np.argsort(CID)\n",
    "    ypos = np.searchsorted(CID[xsorted], c_ids_val)\n",
    "    idx_val = xsorted[ypos]\n",
    "    ypos = np.searchsorted(CID[xsorted], c_ids_tr)\n",
    "    idx_tr = xsorted[ypos]\n",
    "    \n",
    "    LR = LogisticRegression()\n",
    "    LR.fit(X[idx_tr], Y[idx_tr])\n",
    "    auc_val = roc_auc_score(Y[idx_val], LR.predict_proba(X[idx_val])[:, 1])\n",
    "    pandas.DataFrame(LR.predict_proba(X[idx_val])[:, 1]).to_csv('val_scores' + str(i) + \".csv\")\n",
    "    pandas.DataFrame(Y[idx_val]).to_csv('val_scores_true' + str(i) + \".csv\")\n",
    "    print \"AUC on VAL: \" + str(auc_val)\n",
    "    aucs.append(auc_val)\n",
    "print(np.mean(aucs))"
   ]
  },
  {
   "cell_type": "markdown",
   "metadata": {},
   "source": [
    "For testing the AUC"
   ]
  },
  {
   "cell_type": "code",
   "execution_count": 11,
   "metadata": {
    "collapsed": false
   },
   "outputs": [
    {
     "name": "stdout",
     "output_type": "stream",
     "text": [
      "AUC on TE: 0.882459944028\n",
      "AUC on TE: 0.8825281647\n",
      "AUC on TE: 0.87850889274\n",
      "AUC on TE: 0.879587582682\n",
      "AUC on TE: 0.881570595922\n",
      "AUC on TE: 0.880144767462\n",
      "AUC on TE: 0.879672338652\n",
      "AUC on TE: 0.877881443311\n",
      "AUC on TE: 0.884977857317\n",
      "AUC on TE: 0.884523924329\n",
      "0.881185551114\n"
     ]
    }
   ],
   "source": [
    "aucs = []\n",
    "for i in range(0, 10):\n",
    "    \n",
    "    tr_folds_te = pandas.read_csv('tr_folds_te' + str(i) + \".csv\", header=0, names=[\"idx\", \"val\"])\n",
    "    tr_folds_te = tr_folds_te[\"val\"].values\n",
    "    tr_folds_tr = pandas.read_csv('tr_folds_tr' + str(i) + \".csv\", header=0, names=[\"idx\", \"val\"])\n",
    "    tr_folds_tr = tr_folds_tr[\"val\"].values\n",
    "    \n",
    "    c_ids_te = c_list[tr_folds_te]\n",
    "    c_ids_tr = c_list[tr_folds_tr]\n",
    "    xsorted = np.argsort(CID)\n",
    "    ypos = np.searchsorted(CID[xsorted], c_ids_te)\n",
    "    idx_te = xsorted[ypos]\n",
    "    ypos = np.searchsorted(CID[xsorted], c_ids_tr)\n",
    "    idx_tr = xsorted[ypos]\n",
    "    \n",
    "    LR = LogisticRegression()\n",
    "    LR.fit(X[idx_tr], Y[idx_tr])\n",
    "    auc_te = roc_auc_score(Y[idx_te], LR.predict_proba(X[idx_te])[:, 1])\n",
    "    pandas.DataFrame(LR.predict_proba(X[idx_te])[:, 1]).to_csv('te_scores' + str(i) + \".csv\")\n",
    "    pandas.DataFrame(Y[idx_te]).to_csv('te_scores_true' + str(i) + \".csv\")\n",
    "    print \"AUC on TE: \" + str(auc_te)\n",
    "    aucs.append(auc_te)\n",
    "print(np.mean(aucs))"
   ]
  },
  {
   "cell_type": "code",
   "execution_count": null,
   "metadata": {
    "collapsed": true
   },
   "outputs": [],
   "source": []
  }
 ],
 "metadata": {
  "kernelspec": {
   "display_name": "Python 2",
   "language": "python",
   "name": "python2"
  },
  "language_info": {
   "codemirror_mode": {
    "name": "ipython",
    "version": 2
   },
   "file_extension": ".py",
   "mimetype": "text/x-python",
   "name": "python",
   "nbconvert_exporter": "python",
   "pygments_lexer": "ipython2",
   "version": "2.7.13"
  }
 },
 "nbformat": 4,
 "nbformat_minor": 2
}
