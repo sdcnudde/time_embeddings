{
 "cells": [
  {
   "cell_type": "code",
   "execution_count": 1,
   "metadata": {
    "collapsed": true
   },
   "outputs": [],
   "source": [
    "import gensim, logging\n",
    "import os\n",
    "import sys\n",
    "import pandas\n",
    "import time\n",
    "import os\n",
    "import numpy as np\n",
    "from sklearn.model_selection import KFold\n",
    "import datetime\n",
    "logging.basicConfig(format='%(asctime)s : %(levelname)s : %(message)s', level=logging.INFO)"
   ]
  },
  {
   "cell_type": "markdown",
   "metadata": {},
   "source": [
    "Load (cid, pid, date) file of viewings"
   ]
  },
  {
   "cell_type": "code",
   "execution_count": 2,
   "metadata": {
    "collapsed": true
   },
   "outputs": [],
   "source": [
    "viewings = pandas.read_table('~/Downloads/customer_product_date.csv', header=None, names=['cid', 'pid', 'signalD'])"
   ]
  },
  {
   "cell_type": "code",
   "execution_count": 3,
   "metadata": {
    "collapsed": true
   },
   "outputs": [],
   "source": [
    "viewings = viewings.drop_duplicates()"
   ]
  },
  {
   "cell_type": "code",
   "execution_count": 4,
   "metadata": {
    "collapsed": true
   },
   "outputs": [],
   "source": [
    "viewings['signalD'] = pandas.to_datetime(viewings['signalD'])"
   ]
  },
  {
   "cell_type": "markdown",
   "metadata": {},
   "source": [
    "Make sentences grouped by products"
   ]
  },
  {
   "cell_type": "code",
   "execution_count": 12,
   "metadata": {
    "collapsed": true
   },
   "outputs": [],
   "source": [
    "customer_list = viewings.groupby('pid')['cid'].apply(list)"
   ]
  },
  {
   "cell_type": "code",
   "execution_count": null,
   "metadata": {
    "collapsed": true
   },
   "outputs": [],
   "source": [
    "date_list_product = viewings.groupby('pid')['signalD'].apply(list)"
   ]
  },
  {
   "cell_type": "markdown",
   "metadata": {},
   "source": [
    "Make sentences grouped by customers"
   ]
  },
  {
   "cell_type": "code",
   "execution_count": 23,
   "metadata": {
    "collapsed": false
   },
   "outputs": [],
   "source": [
    "viewings = viewings.sort_values(['cid', 'signalD'])"
   ]
  },
  {
   "cell_type": "code",
   "execution_count": 25,
   "metadata": {
    "collapsed": true
   },
   "outputs": [],
   "source": [
    "product_list = viewings.groupby('cid')['pid'].apply(list)"
   ]
  },
  {
   "cell_type": "code",
   "execution_count": 26,
   "metadata": {
    "collapsed": true
   },
   "outputs": [],
   "source": [
    "date_list_customer = viewings.groupby('cid')['signalD'].apply(list)"
   ]
  },
  {
   "cell_type": "markdown",
   "metadata": {},
   "source": [
    "Write dates linked to customer sequences"
   ]
  },
  {
   "cell_type": "code",
   "execution_count": 27,
   "metadata": {
    "collapsed": false
   },
   "outputs": [],
   "source": [
    "oname = '~/Documents/date_sentences.csv'#'~/Documents/dates2_sentences.csv'\n",
    "out_f = open(os.path.expanduser(oname), 'w')\n",
    "b = datetime.datetime(2015, 1, 1)\n",
    "for j in range(0, len(date_list_product)):\n",
    "    dts = ''\n",
    "    for i in date_list_product.values[j]:\n",
    "        dts = dts + str(int((i-b).total_seconds())) + ' '\n",
    "    dts = dts + '\\n'\n",
    "    out_f.write(dts)\n",
    "out_f.close()       "
   ]
  },
  {
   "cell_type": "markdown",
   "metadata": {},
   "source": [
    "Write dates sentences linked to product sequences"
   ]
  },
  {
   "cell_type": "code",
   "execution_count": null,
   "metadata": {
    "collapsed": true
   },
   "outputs": [],
   "source": [
    "oname = '~/Documents/product_date_sentences.csv'#'~/Documents/dates2_sentences.csv'\n",
    "out_f = open(os.path.expanduser(oname), 'w')\n",
    "b = datetime.datetime(2015, 1, 1)\n",
    "for j in range(0, len(date_list_customer)):\n",
    "    dts = ''\n",
    "    for i in date_list_customer.values[j]:\n",
    "        dts = dts + str(int((i-b).total_seconds())) + ' '\n",
    "    dts = dts + '\\n'\n",
    "    out_f.write(dts)\n",
    "out_f.close()       "
   ]
  },
  {
   "cell_type": "markdown",
   "metadata": {},
   "source": [
    "Write product sentences"
   ]
  },
  {
   "cell_type": "code",
   "execution_count": null,
   "metadata": {
    "collapsed": true
   },
   "outputs": [],
   "source": [
    "fname = '~/Documents/product_sentences.txt'\n",
    "f = open('product_sentences.txt', 'w')\n",
    "for i in range(0, len(product_list.values)):\n",
    "    str_tw = ' '.join(str(e) for e in product_list.values[i]) + '\\n'\n",
    "    f.write(str_tw)\n",
    "f.close()"
   ]
  },
  {
   "cell_type": "markdown",
   "metadata": {},
   "source": [
    "Write customer sentences"
   ]
  },
  {
   "cell_type": "code",
   "execution_count": 29,
   "metadata": {
    "collapsed": false
   },
   "outputs": [],
   "source": [
    "fname = '~/Documents/customer_sentences.txt'\n",
    "f = open('customer_sentences.txt', 'w')\n",
    "for i in range(0, len(customer_list.values)):\n",
    "    str_tw = ' '.join(str(e) for e in customer_list.values[i]) + '\\n'\n",
    "    f.write(str_tw)\n",
    "f.close()"
   ]
  }
 ],
 "metadata": {
  "kernelspec": {
   "display_name": "Python 2",
   "language": "python",
   "name": "python2"
  },
  "language_info": {
   "codemirror_mode": {
    "name": "ipython",
    "version": 2
   },
   "file_extension": ".py",
   "mimetype": "text/x-python",
   "name": "python",
   "nbconvert_exporter": "python",
   "pygments_lexer": "ipython2",
   "version": "2.7.13"
  }
 },
 "nbformat": 4,
 "nbformat_minor": 2
}
