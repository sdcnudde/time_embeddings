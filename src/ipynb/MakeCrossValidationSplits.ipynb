{
 "cells": [
  {
   "cell_type": "code",
   "execution_count": 5,
   "metadata": {
    "collapsed": true
   },
   "outputs": [],
   "source": [
    "import os\n",
    "import sys\n",
    "import pandas\n",
    "import time\n",
    "import os\n",
    "import numpy as np\n",
    "from sklearn.model_selection import KFold\n",
    "from sklearn.linear_model import LogisticRegression\n",
    "from sklearn.model_selection import train_test_split\n",
    "from sklearn.metrics import roc_auc_score\n",
    "from sklearn.preprocessing import label_binarize"
   ]
  },
  {
   "cell_type": "code",
   "execution_count": 6,
   "metadata": {
    "collapsed": true
   },
   "outputs": [],
   "source": [
    "customer_labels = pandas.read_table('~/Downloads/customer_labels.csv', header=None, names=['cid', 'gender', 'cltv', 'churn'])"
   ]
  },
  {
   "cell_type": "code",
   "execution_count": 7,
   "metadata": {
    "collapsed": true
   },
   "outputs": [],
   "source": [
    "list_c = customer_labels['cid'].tolist()\n",
    "list_c = np.asarray(list_c)\n",
    "# shuffle list\n",
    "shuf = np.random.permutation(len(list_c))\n",
    "# select random cids\n",
    "list_c = list_c[shuf]"
   ]
  },
  {
   "cell_type": "code",
   "execution_count": 8,
   "metadata": {
    "collapsed": false
   },
   "outputs": [
    {
     "data": {
      "text/plain": [
       "array([105195650,  13293550,   3452900, ...,  54699900,  70871850,\n",
       "         9895650])"
      ]
     },
     "execution_count": 8,
     "metadata": {},
     "output_type": "execute_result"
    }
   ],
   "source": [
    "list_c"
   ]
  },
  {
   "cell_type": "code",
   "execution_count": 10,
   "metadata": {
    "collapsed": true
   },
   "outputs": [],
   "source": [
    "for tr, te in kf_te.split(XX_tr_te):\n",
    "    tr_folds_tr_tmp.append(tr)\n",
    "    tr_folds_te.append(te)\n",
    "    cnt = cnt + 1"
   ]
  },
  {
   "cell_type": "code",
   "execution_count": 20,
   "metadata": {
    "collapsed": false
   },
   "outputs": [],
   "source": [
    "import math\n",
    "XX_tr_te = range(0, len(list_c))\n",
    "kf_te = KFold(n_splits=10)\n",
    "tr_folds_tr_tmp = []\n",
    "tr_folds_te = []\n",
    "tr_folds_val = []\n",
    "tr_folds_tr = []\n",
    "cnt = 0\n",
    "\n",
    "for tr, te in kf_te.split(XX_tr_te):\n",
    "    tr_folds_tr_tmp.append(tr)\n",
    "    tr_folds_te.append(te)\n",
    "    cnt = cnt + 1\n",
    "\n",
    "for i in range(0, 10):\n",
    "    tr_indices = tr_folds_tr_tmp[i]\n",
    "    shf = np.random.permutation(int(math.floor(len(tr_folds_tr_tmp[i])/10.0)))\n",
    "    val_indices = tr_indices[shf]\n",
    "    tr_indices = list(set(tr_indices) - set(val_indices))\n",
    "    tr_folds_val.append(val_indices)\n",
    "    tr_folds_tr.append(tr_indices)"
   ]
  },
  {
   "cell_type": "code",
   "execution_count": 21,
   "metadata": {
    "collapsed": true
   },
   "outputs": [],
   "source": [
    "pandas.DataFrame(list_c).to_csv('list_c.csv')"
   ]
  },
  {
   "cell_type": "code",
   "execution_count": 22,
   "metadata": {
    "collapsed": true
   },
   "outputs": [],
   "source": [
    "for i in range(0, 10):\n",
    "    pandas.DataFrame(tr_folds_tr[i]).to_csv('tr_folds_tr' + str(i) + '.csv')\n",
    "    pandas.DataFrame(tr_folds_te[i]).to_csv('tr_folds_te' + str(i) + '.csv')\n",
    "    pandas.DataFrame(tr_folds_val[i]).to_csv('tr_folds_val' + str(i) + '.csv')"
   ]
  },
  {
   "cell_type": "code",
   "execution_count": null,
   "metadata": {
    "collapsed": true
   },
   "outputs": [],
   "source": []
  }
 ],
 "metadata": {
  "kernelspec": {
   "display_name": "Python 2",
   "language": "python",
   "name": "python2"
  },
  "language_info": {
   "codemirror_mode": {
    "name": "ipython",
    "version": 2
   },
   "file_extension": ".py",
   "mimetype": "text/x-python",
   "name": "python",
   "nbconvert_exporter": "python",
   "pygments_lexer": "ipython2",
   "version": "2.7.13"
  }
 },
 "nbformat": 4,
 "nbformat_minor": 2
}
