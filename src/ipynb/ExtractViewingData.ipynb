{
 "cells": [
  {
   "cell_type": "code",
   "execution_count": null,
   "metadata": {
    "collapsed": true
   },
   "outputs": [],
   "source": [
    "from pyspark import SparkConf, SparkContext\n",
    "from pyspark.sql import SQLContext, SparkSession\n",
    "from azure.storage.blob import BlobService\n",
    "import pyspark\n",
    "import pandas\n",
    "from sklearn.linear_model import LogisticRegression\n",
    "#from sklearn.model_selection import train_test_split\n",
    "from sklearn.metrics import roc_auc_score\n",
    "#from pyspark import SparkContext, SparkConf\n",
    "from pyspark.sql.types import *\n",
    "from pyspark.mllib.recommendation import ALS, MatrixFactorizationModel, Rating\n",
    "import time\n",
    "import pandas\n",
    "import datetime, time\n",
    "from pyspark.sql import functions as F\n",
    "from math import sqrt\n",
    "from operator import add\n",
    "conf = (SparkConf().set(\"spark.driver.maxResultSize\", \"64G\"))\n",
    "print conf.get(\"spark.num-executors\")\n",
    "conf = (conf.set(\"spark.num-executors\", \"20\"))\n",
    "conf = (conf.set(\"spark.driver-cores\", \"7\"))\n",
    "conf = (conf.set(\"spark.num-executors\", \"40\"))\n",
    "conf = (conf.set(\"spark.executor-cores\", \"4\"))\n",
    "conf = (conf.set(\"spark.executor-memory\", \"64G\"))\n",
    "conf = (conf.set(\"spark.driver-memory\", \"64G\"))\n",
    "spark = SparkSession.builder.master(\"local\").appName(\"do_mf\").config(conf=conf).getOrCreate()\n",
    "print conf.get(\"spark.driver.maxResultSize\")\n",
    "sc.setLogLevel('ERROR')"
   ]
  },
  {
   "cell_type": "markdown",
   "metadata": {},
   "source": [
    "Read Churn data"
   ]
  },
  {
   "cell_type": "code",
   "execution_count": null,
   "metadata": {
    "collapsed": true
   },
   "outputs": [],
   "source": [
    "block_blob_service_cltv = BlobService(account_name='asoscustprofdata', account_key='gWadTN6sXXsLIurQxCjJSFo/Ab6MNsAmpyauMImlOuIe5JI928yP9d3bNhL64IdSmL9spqPHz658iFcr2J56zA==')\n",
    "df = spark.read.parquet(\"wasbs://fullchurnltvsampledataset@asoscustprofdata.blob.core.windows.net/2017-02-24/historical/\")"
   ]
  },
  {
   "cell_type": "code",
   "execution_count": null,
   "metadata": {
    "collapsed": true
   },
   "outputs": [],
   "source": [
    "df = df.select(df[\"customerId\"], df[\"shippingCountry\"], df[\"gender\"], df[\"target_net_value\"], df[\"target_churned\"])\n"
   ]
  },
  {
   "cell_type": "markdown",
   "metadata": {},
   "source": [
    "Read Viewings data"
   ]
  },
  {
   "cell_type": "code",
   "execution_count": null,
   "metadata": {
    "collapsed": true
   },
   "outputs": [],
   "source": [
    "block_blob_service_views = BlobService(account_name='asoscustprofdevelopment', account_key='X1nmVm/GGg+UQLrDHBTfqxNRFvD4XI1GjnMCF2C2DvWT8pu+3qVI3BVt+2t2k0Ksz1PNPRoHgpqC9QOxmmZJcg==')"
   ]
  },
  {
   "cell_type": "code",
   "execution_count": null,
   "metadata": {
    "collapsed": true
   },
   "outputs": [],
   "source": [
    "viewsSchema = StructType([StructField(\"customerId\", IntegerType(), False),\n",
    "                        StructField(\"productId\", IntegerType(), True),\n",
    "                        StructField(\"variantId\", IntegerType(), True),\n",
    "                        StructField(\"divisionId\", IntegerType(), True),\n",
    "                        StructField(\"sourceId\", IntegerType(), True),\n",
    "                        StructField(\"itemQty\", IntegerType(), True), # always 1\n",
    "                        StructField(\"signalDate\", TimestampType(), True), # time of viewing\n",
    "                        StructField(\"sessionId\", StringType(), True), # session id\n",
    "                        StructField(\"price\", DoubleType(), True),\n",
    "                        StructField(\"useForRecs\", IntegerType(), True),\n",
    "                        StructField(\"discountType\", IntegerType(), True),\n",
    "                        StructField(\"dateModified\", TimestampType(), True),\n",
    "                        StructField(\"viewonly\", IntegerType(), True), # nr of times user has clicked on product\n",
    "                        StructField(\"changeThumbnail\", IntegerType(), True), # count nr of img thumbnail clicks\n",
    "                        StructField(\"imageZoom\", IntegerType(), True),\n",
    "                        StructField(\"watchVideo\", IntegerType(), True),\n",
    "                        StructField(\"view360\", IntegerType(), True),\n",
    "                        StructField(\"sizeGuide\", IntegerType(), True),\n",
    "                        StructField(\"device\", StringType(), True),\n",
    "                        StructField(\"userTime\", TimestampType(), True) # time in user time zone\n",
    "                         ])\n",
    "apps1 = spark.read.csv(\"wasbs://sdcsparkrd01@asoscustprofdevelopment.blob.core.windows.net/sample1outof10singlefile/app_productviews\", schema=viewsSchema, sep=\"\\t\")\n",
    "#apps1.count()"
   ]
  },
  {
   "cell_type": "code",
   "execution_count": null,
   "metadata": {
    "collapsed": true
   },
   "outputs": [],
   "source": [
    "desktop1 = spark.read.csv(\"wasbs://sdcsparkrd01@asoscustprofdevelopment.blob.core.windows.net/sample1outof10singlefile/desktop_productviews\", schema=viewsSchema, sep=\"\\t\")\n",
    "#desktop1.count()"
   ]
  },
  {
   "cell_type": "code",
   "execution_count": null,
   "metadata": {
    "collapsed": true
   },
   "outputs": [],
   "source": [
    "apps1 = apps1.select(\"customerId\", \"productId\", \"signalDate\", \"divisionId\")\n",
    "desktop1 = desktop1.select(\"customerId\", \"productId\", \"signalDate\", \"divisionId\")"
   ]
  },
  {
   "cell_type": "code",
   "execution_count": null,
   "metadata": {
    "collapsed": true
   },
   "outputs": [],
   "source": [
    "apps1 = apps1.filter(apps1.signalDate >= datetime.datetime(2015, 2, 24, 9, 0, 0))\n",
    "apps1 = apps1.filter(apps1.signalDate < datetime.datetime(2016, 2, 24, 9, 0, 0))\n",
    "\n",
    "desktop1 = desktop1.filter(desktop1.signalDate >= datetime.datetime(2015, 2, 24, 9, 0, 0))\n",
    "desktop1 = desktop1.filter(desktop1.signalDate < datetime.datetime(2016, 2, 24, 9, 0, 0))"
   ]
  },
  {
   "cell_type": "code",
   "execution_count": null,
   "metadata": {
    "collapsed": true
   },
   "outputs": [],
   "source": [
    "views_all = apps1.union(desktop1)"
   ]
  },
  {
   "cell_type": "code",
   "execution_count": null,
   "metadata": {
    "collapsed": true
   },
   "outputs": [],
   "source": [
    "views = df.join(views_all, df.customerId == views_all.customerId, 'inner').drop(views_all.customerId)"
   ]
  },
  {
   "cell_type": "code",
   "execution_count": null,
   "metadata": {
    "collapsed": true
   },
   "outputs": [],
   "source": [
    "views = views.filter(views.shippingCountry == \"UK\")"
   ]
  },
  {
   "cell_type": "markdown",
   "metadata": {},
   "source": [
    "Count unique customers and products"
   ]
  },
  {
   "cell_type": "code",
   "execution_count": null,
   "metadata": {
    "collapsed": true
   },
   "outputs": [],
   "source": [
    "un = views.select(views[\"customerId\"]).distinct()\n",
    "un.count()"
   ]
  },
  {
   "cell_type": "code",
   "execution_count": null,
   "metadata": {
    "collapsed": true
   },
   "outputs": [],
   "source": [
    "un_p = views.select(views[\"productId\"]).distinct()\n",
    "un_p.count() "
   ]
  },
  {
   "cell_type": "code",
   "execution_count": null,
   "metadata": {
    "collapsed": true
   },
   "outputs": [],
   "source": [
    "df.createOrReplaceTempView(\"df\")\n",
    "views.createOrReplaceTempView(\"views\")"
   ]
  },
  {
   "cell_type": "code",
   "execution_count": null,
   "metadata": {
    "collapsed": true
   },
   "outputs": [],
   "source": [
    "views_df_ordered = spark.sql(\"SELECT customerId, productId, signalDate FROM views ORDER BY productId, signalDate\")\n"
   ]
  },
  {
   "cell_type": "markdown",
   "metadata": {},
   "source": [
    "Write data"
   ]
  },
  {
   "cell_type": "code",
   "execution_count": null,
   "metadata": {
    "collapsed": true
   },
   "outputs": [],
   "source": [
    "labels_write = spark.sql(\"SELECT DISTINCT(customerId), gender, target_net_value, target_churned FROM views\")"
   ]
  },
  {
   "cell_type": "code",
   "execution_count": null,
   "metadata": {
    "collapsed": true
   },
   "outputs": [],
   "source": [
    "labels_write.coalesce(1).write.csv(\"wasb://sdcsparkrd01@asoscustprofdevelopment.blob.core.windows.net/customer_labels\", sep=\"\\t\")"
   ]
  },
  {
   "cell_type": "code",
   "execution_count": null,
   "metadata": {
    "collapsed": true
   },
   "outputs": [],
   "source": [
    "views_df_ordered.coalesce(1).write.csv(\"wasb://sdcsparkrd01@asoscustprofdevelopment.blob.core.windows.net/customer_views\", sep=\"\\t\")"
   ]
  }
 ],
 "metadata": {
  "kernelspec": {
   "display_name": "Python 2",
   "language": "python",
   "name": "python2"
  },
  "language_info": {
   "codemirror_mode": {
    "name": "ipython",
    "version": 2
   },
   "file_extension": ".py",
   "mimetype": "text/x-python",
   "name": "python",
   "nbconvert_exporter": "python",
   "pygments_lexer": "ipython2",
   "version": "2.7.13"
  }
 },
 "nbformat": 4,
 "nbformat_minor": 2
}
